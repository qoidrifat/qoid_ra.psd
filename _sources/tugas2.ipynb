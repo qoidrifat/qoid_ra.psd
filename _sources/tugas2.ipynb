{
  "cells": [
    {
      "cell_type": "markdown",
      "source": [
        "Nama : Qoid Rif'at\n",
        "\n",
        "NIM : 210411100160\n",
        "\n",
        "Kelas : Proyek Sains Data (A)"
      ],
      "metadata": {
        "id": "GQbYgUC6Dm5E"
      }
    },
    {
      "cell_type": "code",
      "execution_count": 14,
      "metadata": {
        "colab": {
          "base_uri": "https://localhost:8080/"
        },
        "id": "sQQ4q4c03277",
        "outputId": "9b56f6cb-7e53-422b-e293-a3af937d6d41"
      },
      "outputs": [
        {
          "output_type": "stream",
          "name": "stdout",
          "text": [
            "Requirement already satisfied: librosa in /usr/local/lib/python3.10/dist-packages (0.10.1)\n",
            "Requirement already satisfied: audioread>=2.1.9 in /usr/local/lib/python3.10/dist-packages (from librosa) (3.0.0)\n",
            "Requirement already satisfied: numpy!=1.22.0,!=1.22.1,!=1.22.2,>=1.20.3 in /usr/local/lib/python3.10/dist-packages (from librosa) (1.23.5)\n",
            "Requirement already satisfied: scipy>=1.2.0 in /usr/local/lib/python3.10/dist-packages (from librosa) (1.10.1)\n",
            "Requirement already satisfied: scikit-learn>=0.20.0 in /usr/local/lib/python3.10/dist-packages (from librosa) (1.2.2)\n",
            "Requirement already satisfied: joblib>=0.14 in /usr/local/lib/python3.10/dist-packages (from librosa) (1.3.2)\n",
            "Requirement already satisfied: decorator>=4.3.0 in /usr/local/lib/python3.10/dist-packages (from librosa) (4.4.2)\n",
            "Requirement already satisfied: numba>=0.51.0 in /usr/local/lib/python3.10/dist-packages (from librosa) (0.56.4)\n",
            "Requirement already satisfied: soundfile>=0.12.1 in /usr/local/lib/python3.10/dist-packages (from librosa) (0.12.1)\n",
            "Requirement already satisfied: pooch>=1.0 in /usr/local/lib/python3.10/dist-packages (from librosa) (1.7.0)\n",
            "Requirement already satisfied: soxr>=0.3.2 in /usr/local/lib/python3.10/dist-packages (from librosa) (0.3.6)\n",
            "Requirement already satisfied: typing-extensions>=4.1.1 in /usr/local/lib/python3.10/dist-packages (from librosa) (4.5.0)\n",
            "Requirement already satisfied: lazy-loader>=0.1 in /usr/local/lib/python3.10/dist-packages (from librosa) (0.3)\n",
            "Requirement already satisfied: msgpack>=1.0 in /usr/local/lib/python3.10/dist-packages (from librosa) (1.0.5)\n",
            "Requirement already satisfied: llvmlite<0.40,>=0.39.0dev0 in /usr/local/lib/python3.10/dist-packages (from numba>=0.51.0->librosa) (0.39.1)\n",
            "Requirement already satisfied: setuptools in /usr/local/lib/python3.10/dist-packages (from numba>=0.51.0->librosa) (67.7.2)\n",
            "Requirement already satisfied: platformdirs>=2.5.0 in /usr/local/lib/python3.10/dist-packages (from pooch>=1.0->librosa) (3.10.0)\n",
            "Requirement already satisfied: packaging>=20.0 in /usr/local/lib/python3.10/dist-packages (from pooch>=1.0->librosa) (23.1)\n",
            "Requirement already satisfied: requests>=2.19.0 in /usr/local/lib/python3.10/dist-packages (from pooch>=1.0->librosa) (2.31.0)\n",
            "Requirement already satisfied: threadpoolctl>=2.0.0 in /usr/local/lib/python3.10/dist-packages (from scikit-learn>=0.20.0->librosa) (3.2.0)\n",
            "Requirement already satisfied: cffi>=1.0 in /usr/local/lib/python3.10/dist-packages (from soundfile>=0.12.1->librosa) (1.15.1)\n",
            "Requirement already satisfied: pycparser in /usr/local/lib/python3.10/dist-packages (from cffi>=1.0->soundfile>=0.12.1->librosa) (2.21)\n",
            "Requirement already satisfied: charset-normalizer<4,>=2 in /usr/local/lib/python3.10/dist-packages (from requests>=2.19.0->pooch>=1.0->librosa) (3.2.0)\n",
            "Requirement already satisfied: idna<4,>=2.5 in /usr/local/lib/python3.10/dist-packages (from requests>=2.19.0->pooch>=1.0->librosa) (3.4)\n",
            "Requirement already satisfied: urllib3<3,>=1.21.1 in /usr/local/lib/python3.10/dist-packages (from requests>=2.19.0->pooch>=1.0->librosa) (2.0.4)\n",
            "Requirement already satisfied: certifi>=2017.4.17 in /usr/local/lib/python3.10/dist-packages (from requests>=2.19.0->pooch>=1.0->librosa) (2023.7.22)\n"
          ]
        }
      ],
      "source": [
        "pip install librosa"
      ]
    },
    {
      "cell_type": "code",
      "execution_count": 15,
      "metadata": {
        "colab": {
          "base_uri": "https://localhost:8080/"
        },
        "id": "qOCTj8DT38RI",
        "outputId": "203c2b97-a35e-4485-f063-07776acde46e"
      },
      "outputs": [
        {
          "output_type": "stream",
          "name": "stdout",
          "text": [
            "Drive already mounted at /content/drive; to attempt to forcibly remount, call drive.mount(\"/content/drive\", force_remount=True).\n"
          ]
        }
      ],
      "source": [
        "from google.colab import drive\n",
        "drive.mount ('/content/drive')"
      ]
    },
    {
      "cell_type": "code",
      "execution_count": 16,
      "metadata": {
        "id": "SEx5w2d74CVU",
        "colab": {
          "base_uri": "https://localhost:8080/"
        },
        "outputId": "226c30ba-230b-425d-f5dc-cbf804098471"
      },
      "outputs": [
        {
          "output_type": "stream",
          "name": "stdout",
          "text": [
            "/content/drive/MyDrive/psd a\n"
          ]
        }
      ],
      "source": [
        "%cd /content/drive/MyDrive/psd a"
      ]
    },
    {
      "cell_type": "code",
      "execution_count": 17,
      "metadata": {
        "id": "FRKbRhCW4EWK"
      },
      "outputs": [],
      "source": [
        "import librosa\n",
        "x1, sr = librosa.load(\"audio1.wav\")\n",
        "x2, sr = librosa.load(\"audio2.wav\")\n",
        "x3, sr = librosa.load(\"audio3.wav\")"
      ]
    },
    {
      "cell_type": "code",
      "source": [
        "import numpy as np\n",
        "import scipy"
      ],
      "metadata": {
        "id": "Dx2lQhjp8Dix"
      },
      "execution_count": 18,
      "outputs": []
    },
    {
      "cell_type": "code",
      "source": [
        "freqs = np.fft.fftfreq(x1.size)\n",
        "\n",
        "def describe_freq(freqs):\n",
        "  mean = np.mean(freqs)\n",
        "  minv = np.amin(freqs)\n",
        "  maxv = np.amax(freqs)\n",
        "  std = np.std(freqs)\n",
        "  median = np.median(freqs)\n",
        "  skew = scipy.stats.skew(freqs)\n",
        "  kurt = scipy.stats.kurtosis(freqs)"
      ],
      "metadata": {
        "id": "liSRgIIU7_ng"
      },
      "execution_count": 20,
      "outputs": []
    },
    {
      "cell_type": "code",
      "source": [
        "freqs = np.fft.fftfreq(x2.size)\n",
        "\n",
        "def describe_freq(freqs):\n",
        "  mean = np.mean(freqs)\n",
        "  minv = np.amin(freqs)\n",
        "  maxv = np.amax(freqs)\n",
        "  std = np.std(freqs)\n",
        "  median = np.median(freqs)\n",
        "  skew = scipy.stats.skew(freqs)\n",
        "  kurt = scipy.stats.kurtosis(freqs)"
      ],
      "metadata": {
        "id": "NG3SW8DV8JXj"
      },
      "execution_count": 21,
      "outputs": []
    },
    {
      "cell_type": "code",
      "source": [
        "freqs = np.fft.fftfreq(x3.size)\n",
        "\n",
        "def describe_freq(freqs):\n",
        "  mean = np.mean(freqs)\n",
        "  minv = np.amin(freqs)\n",
        "  maxv = np.amax(freqs)\n",
        "  std = np.std(freqs)\n",
        "  median = np.median(freqs)\n",
        "  skew = scipy.stats.skew(freqs)\n",
        "  kurt = scipy.stats.kurtosis(freqs)"
      ],
      "metadata": {
        "id": "gFEJM4rm8LHc"
      },
      "execution_count": 22,
      "outputs": []
    },
    {
      "cell_type": "code",
      "source": [
        "import numpy as np\n",
        "import matplotlib.pyplot as plt\n",
        "from scipy.stats import skew, norm, gamma\n",
        "np.random.seed(42)\n",
        "\n",
        "# generate normal, left-skewed, and right-skewed samples\n",
        "normal_freqs = np.random.normal(loc=0, scale=1, size=1000)\n",
        "left_freqs = np.random.weibull(50,1000)\n",
        "right_freqs = gamma.rvs(a=1, size=1000)\n",
        "\n",
        "# plot these\n",
        "fig, axs = plt.subplots(nrows=1, ncols=3, figsize=(14, 4))\n",
        "axs[0].hist(left_freqs, bins=30, density=True, alpha=0.7)\n",
        "axs[0].set_title(\"Left Skewness\")\n",
        "axs[1].hist(normal_freqs, bins=30, density=True, alpha=0.7)\n",
        "axs[1].set_title(\"Normal Skewness\")\n",
        "axs[2].hist(right_freqs, bins=30, density=True, alpha=0.7)\n",
        "axs[2].set_title(\"Right Skewness\")\n",
        "plt.tight_layout()\n",
        "plt.show()"
      ],
      "metadata": {
        "colab": {
          "base_uri": "https://localhost:8080/",
          "height": 366
        },
        "id": "FLSLGf3w8ZMi",
        "outputId": "74d3a15a-ec8c-40cc-bcce-bd30ead83aaf"
      },
      "execution_count": 23,
      "outputs": [
        {
          "output_type": "display_data",
          "data": {
            "text/plain": [
              "<Figure size 1400x400 with 3 Axes>"
            ],
            "image/png": "[encoded data removed]"
          },
          "metadata": {}
        }
      ]
    },
    {
      "cell_type": "code",
      "source": [
        "import numpy as np\n",
        "from scipy.stats import shapiro\n",
        "from scipy.stats import kstest\n",
        "\n",
        "stat, p = shapiro(normal_freqs)\n",
        "print(\"Shapiro-Wilk test for normal distribution:\")\n",
        "print(\"Statistical value:\", stat, \", p-value:\", p)\n",
        "\n",
        "stat, p = shapiro(left_freqs)\n",
        "print(\"Shapiro-Wilk test for skewed distribution:\")\n",
        "print(\"Statistical value:\", stat, \", p-value:\", p)\n",
        "\n",
        "stat, p = shapiro(right_freqs)\n",
        "print(\"Shapiro-Wilk test for skewed distribution:\")\n",
        "print(\"Statistical value:\", stat, \", p-value:\", p)\n",
        "\n",
        "# Perform the Kolmogorov-Smirnov test on each data set\n",
        "stat, p = kstest(normal_freqs, 'norm')\n",
        "print(\"Kolmogorov-Smirnov test for normal distribution:\")\n",
        "print(\"Statistical value:\", stat, \", p-value:\", p)\n",
        "\n",
        "stat, p = kstest(left_freqs, 'norm')\n",
        "print(\"Kolmogorov-Smirnov test for skewed distribution:\")\n",
        "print(\"Statistical value:\", stat, \", p-value:\", p)\n",
        "\n",
        "stat, p = kstest(right_freqs, 'norm')\n",
        "print(\"Kolmogorov-Smirnov test for skewed distribution:\")\n",
        "print(\"Statistical value:\", stat, \", p-value:\", p)"
      ],
      "metadata": {
        "colab": {
          "base_uri": "https://localhost:8080/"
        },
        "id": "w6hGJv9A8mjc",
        "outputId": "2e985073-7c86-4026-efaa-8e72d7c2911e"
      },
      "execution_count": 24,
      "outputs": [
        {
          "output_type": "stream",
          "name": "stdout",
          "text": [
            "Shapiro-Wilk test for normal distribution:\n",
            "Statistical value: 0.9986080527305603 , p-value: 0.6264819502830505\n",
            "Shapiro-Wilk test for skewed distribution:\n",
            "Statistical value: 0.9578495621681213 , p-value: 2.266444967544346e-16\n",
            "Shapiro-Wilk test for skewed distribution:\n",
            "Statistical value: 0.8390923738479614 , p-value: 1.307680477323667e-30\n",
            "Kolmogorov-Smirnov test for normal distribution:\n",
            "Statistical value: 0.017327787320720822 , p-value: 0.9196626608357358\n",
            "Kolmogorov-Smirnov test for skewed distribution:\n",
            "Statistical value: 0.8147488205807106 , p-value: 0.0\n",
            "Kolmogorov-Smirnov test for skewed distribution:\n",
            "Statistical value: 0.5000046416228398 , p-value: 1.0533070064799348e-231\n"
          ]
        }
      ]
    },
    {
      "cell_type": "code",
      "source": [
        "import numpy as np\n",
        "import librosa\n",
        "audio_file = \"audio1.wav\"\n",
        "signal, sample_rate = librosa.load(audio_file)\n",
        "zero_crossings = librosa.feature.zero_crossing_rate(signal)\n",
        "mean_zero_crossings = np.mean(zero_crossings)\n",
        "median_zero_crossings = np.median(zero_crossings)\n",
        "std_zero_crossings = np.std(zero_crossings)\n",
        "print(f\"Mean Zero-Crossing Rate: {mean_zero_crossings}\")\n",
        "print(f\"Median Zero-Crossing Rate: {median_zero_crossings}\")\n",
        "print(f\"Standard Deviation of Zero-Crossing Rate: {std_zero_crossings}\")"
      ],
      "metadata": {
        "id": "lGb83T9W8VOj"
      },
      "execution_count": null,
      "outputs": []
    },
    {
      "cell_type": "code",
      "source": [
        "import matplotlib.pyplot as plt\n",
        "import scipy.stats as stats\n",
        "from scipy.stats import kurtosis\n",
        "\n",
        "x = np.linspace(-5, 5, 100)\n",
        "ax = plt.subplot()\n",
        "distnames = ['laplace', 'norm', 'uniform']\n",
        "for distname in distnames:\n",
        "    if distname == 'uniform':\n",
        "        dist = getattr(stats, distname)(loc=-2, scale=4)\n",
        "    else:\n",
        "        dist = getattr(stats, distname)\n",
        "    data = dist.rvs(size=1000)\n",
        "    kur = kurtosis(data, fisher=True)\n",
        "    y = dist.pdf(x)\n",
        "    ax.plot(x, y, label=\"{}, {}\".format(distname, round(kur, 3)))\n",
        "    ax.legend()"
      ],
      "metadata": {
        "colab": {
          "base_uri": "https://localhost:8080/",
          "height": 430
        },
        "id": "MdgSs3Pz86MZ",
        "outputId": "bf3447c0-a2eb-486b-814f-0f6d5ed74eff"
      },
      "execution_count": 25,
      "outputs": [
        {
          "output_type": "display_data",
          "data": {
            "text/plain": [
              "<Figure size 640x480 with 1 Axes>"
            ],
            "image/png": "[encoded data removed]"
          },
          "metadata": {}
        }
      ]
    },
    {
      "cell_type": "code",
      "source": [
        "import numpy as np\n",
        "import librosa\n",
        "audio_file = \"audio1.wav\"\n",
        "signal, sample_rate = librosa.load(audio_file)\n",
        "zero_crossings = librosa.feature.zero_crossing_rate(signal)\n",
        "meana_zero_crossings = np.mean(zero_crossings)\n",
        "mediana_zero_crossings = np.median(zero_crossings)\n",
        "stda_zero_crossings = np.std(zero_crossings)\n",
        "print(f\"Mean Zero-Crossing Rate: {meana_zero_crossings}\")\n",
        "print(f\"Median Zero-Crossing Rate: {mediana_zero_crossings}\")\n",
        "print(f\"Standard Deviation of Zero-Crossing Rate: {stda_zero_crossings}\")"
      ],
      "metadata": {
        "colab": {
          "base_uri": "https://localhost:8080/"
        },
        "id": "ObBdPFL2877u",
        "outputId": "fd941e96-8061-47b3-c087-d5998d535a5a"
      },
      "execution_count": 30,
      "outputs": [
        {
          "output_type": "stream",
          "name": "stdout",
          "text": [
            "Mean Zero-Crossing Rate: 0.022295977618243243\n",
            "Median Zero-Crossing Rate: 0.01171875\n",
            "Standard Deviation of Zero-Crossing Rate: 0.02245789951982053\n"
          ]
        }
      ]
    },
    {
      "cell_type": "code",
      "source": [
        "import numpy as np\n",
        "import librosa\n",
        "audio_file = \"audio2.wav\"\n",
        "signal, sample_rate = librosa.load(audio_file)\n",
        "zero_crossings = librosa.feature.zero_crossing_rate(signal)\n",
        "meanb_zero_crossings = np.mean(zero_crossings)\n",
        "medianb_zero_crossings = np.median(zero_crossings)\n",
        "stdb_zero_crossings = np.std(zero_crossings)\n",
        "print(f\"Mean Zero-Crossing Rate: {meanb_zero_crossings}\")\n",
        "print(f\"Median Zero-Crossing Rate: {medianb_zero_crossings}\")\n",
        "print(f\"Standard Deviation of Zero-Crossing Rate: {stdb_zero_crossings}\")"
      ],
      "metadata": {
        "colab": {
          "base_uri": "https://localhost:8080/"
        },
        "id": "EBskgZzp9I7c",
        "outputId": "65d0828b-f9ea-4721-ac5f-c13dd6b7377d"
      },
      "execution_count": 31,
      "outputs": [
        {
          "output_type": "stream",
          "name": "stdout",
          "text": [
            "Mean Zero-Crossing Rate: 0.13221263885498047\n",
            "Median Zero-Crossing Rate: 0.13134765625\n",
            "Standard Deviation of Zero-Crossing Rate: 0.01527410522315829\n"
          ]
        }
      ]
    },
    {
      "cell_type": "code",
      "source": [
        "import numpy as np\n",
        "import librosa\n",
        "audio_file = \"audio3.wav\"\n",
        "signal, sample_rate = librosa.load(audio_file)\n",
        "zero_crossings = librosa.feature.zero_crossing_rate(signal)\n",
        "meanc_zero_crossings = np.mean(zero_crossings)\n",
        "medianc_zero_crossings = np.median(zero_crossings)\n",
        "stdc_zero_crossings = np.std(zero_crossings)\n",
        "print(f\"Mean Zero-Crossing Rate: {meanc_zero_crossings}\")\n",
        "print(f\"Median Zero-Crossing Rate: {medianc_zero_crossings}\")\n",
        "print(f\"Standard Deviation of Zero-Crossing Rate: {stdc_zero_crossings}\")"
      ],
      "metadata": {
        "colab": {
          "base_uri": "https://localhost:8080/"
        },
        "id": "7PINWQTc9LUf",
        "outputId": "ff034b67-4432-462d-9209-123cee9938ac"
      },
      "execution_count": 32,
      "outputs": [
        {
          "output_type": "stream",
          "name": "stdout",
          "text": [
            "Mean Zero-Crossing Rate: 0.133019047289823\n",
            "Median Zero-Crossing Rate: 0.0654296875\n",
            "Standard Deviation of Zero-Crossing Rate: 0.19731362360864052\n"
          ]
        }
      ]
    },
    {
      "cell_type": "code",
      "source": [
        "from tabulate import tabulate\n",
        "\n",
        "# Tentukan nama kolom apa saja ketika inisialisasi tabel\n",
        "tabel = [[\"ZR Mean\", \"ZR Median\", \"ZR Standart Deviation\", \"Label\"]]\n",
        "\n",
        "# Tambahkan data baris\n",
        "[[meana_zero_crossings, mediana_zero_crossings, stda_zero_crossings, \"Tidak Marah\"]]\n",
        "[[meanb_zero_crossings, medianb_zero_crossings, stdb_zero_crossings, \"Tidak Marah\"]]\n",
        "[[meanc_zero_crossings, medianc_zero_crossings, stdc_zero_crossings, \"Tidak Marah\"]]\n",
        "\n",
        "# Cetak Tabel\n",
        "print(tabulate(tabel, headers='firstrow', tablefmt='fancy_grid'))\n",
        "print(tabulate(tabel, headers='tworow', tablefmt='fancy_grid'))\n",
        "\n",
        "[[meana_zero_crossings, mediana_zero_crossings, stda_zero_crossings, \"Tidak Marah\"]]\n",
        "[[meanb_zero_crossings, medianb_zero_crossings, stdb_zero_crossings, \"Tidak Marah\"]]\n",
        "[[meanc_zero_crossings, medianc_zero_crossings, stdc_zero_crossings, \"Tidak Marah\"]]"
      ],
      "metadata": {
        "colab": {
          "base_uri": "https://localhost:8080/"
        },
        "id": "FiKMPUWU-APe",
        "outputId": "fb623a72-294d-488c-b8f1-a804beeb467e"
      },
      "execution_count": 47,
      "outputs": [
        {
          "output_type": "stream",
          "name": "stdout",
          "text": [
            "╒═════════════════════╤════════════════╤═══════════════════════╤═══════════════╕\n",
            "│ 0.133019047289823   │ 0.0654296875   │ 0.19731362360864052   │ Tidak Marah   │\n",
            "╞═════════════════════╪════════════════╪═══════════════════════╪═══════════════╡\n",
            "╘═════════════════════╧════════════════╧═══════════════════════╧═══════════════╛\n",
            "╒══════════╤═══════════╤══════════╤═════════════╕\n",
            "│        t │         w │        o │ r           │\n",
            "╞══════════╪═══════════╪══════════╪═════════════╡\n",
            "│ 0.133019 │ 0.0654297 │ 0.197314 │ Tidak Marah │\n",
            "╘══════════╧═══════════╧══════════╧═════════════╛\n"
          ]
        }
      ]
    },
    {
      "cell_type": "code",
      "source": [
        "from prettytable import PrettyTable\n",
        "\n",
        "# Tentukan nama kolom apa saja ketika inisialisasi tabel\n",
        "tabelSiswa = PrettyTable([\"ZR Mean\", \"ZR Median\", \"ZR Standart Deviation\", \"Label\"])\n",
        "\n",
        "# Tambahkan data baris\n",
        "tabelSiswa.add_row([meana_zero_crossings, mediana_zero_crossings, stda_zero_crossings, \"Tidak Marah\"])\n",
        "tabelSiswa.add_row([meanb_zero_crossings, medianb_zero_crossings, stdb_zero_crossings, \"Tidak Marah\"])\n",
        "tabelSiswa.add_row([meanc_zero_crossings, medianc_zero_crossings, stdc_zero_crossings, \"Tidak Marah\"])\n",
        "\n",
        "# Cetak Tabel Siswa\n",
        "print(tabelSiswa)"
      ],
      "metadata": {
        "colab": {
          "base_uri": "https://localhost:8080/"
        },
        "id": "UseNH87uFPo7",
        "outputId": "cf0de4f4-92fb-49b8-b1e7-3a993295a62f"
      },
      "execution_count": 51,
      "outputs": [
        {
          "output_type": "stream",
          "name": "stdout",
          "text": [
            "+----------------------+---------------+-----------------------+-------------+\n",
            "|       ZR Mean        |   ZR Median   | ZR Standart Deviation |    Label    |\n",
            "+----------------------+---------------+-----------------------+-------------+\n",
            "| 0.022295977618243243 |   0.01171875  |  0.02245789951982053  | Tidak Marah |\n",
            "| 0.13221263885498047  | 0.13134765625 |  0.01527410522315829  | Tidak Marah |\n",
            "|  0.133019047289823   |  0.0654296875 |  0.19731362360864052  | Tidak Marah |\n",
            "+----------------------+---------------+-----------------------+-------------+\n"
          ]
        }
      ]
    }
  ],
  "metadata": {
    "colab": {
      "provenance": []
    },
    "kernelspec": {
      "display_name": "Python 3",
      "name": "python3"
    },
    "language_info": {
      "name": "python"
    }
  },
  "nbformat": 4,
  "nbformat_minor": 0
}